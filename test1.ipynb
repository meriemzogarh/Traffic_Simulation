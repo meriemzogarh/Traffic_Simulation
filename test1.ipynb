{
 "cells": [
  {
   "cell_type": "code",
   "execution_count": 1,
   "metadata": {},
   "outputs": [
    {
     "name": "stdout",
     "output_type": "stream",
     "text": [
      "212\n",
      "self.vehicle_rate= 200\n",
      "0\n"
     ]
    }
   ],
   "source": [
    "from trafficSimulator.core import *\n",
    "from trafficSimulator.core.vehicle_generator import VehicleGenerator\n",
    "from trafficSimulator.core.simulation import Simulation\n",
    "from trafficSimulator.visualizer.window import Window\n",
    "from queue import Queue\n",
    "\n",
    "import pandas as pd\n",
    "\n",
    "# Path to your CSV file\n",
    "csv_file_path = \"filtered_results_day_20_Jinnah_Ave_labeled.csv\"\n",
    "\n",
    "# Read the CSV file\n",
    "df = pd.read_csv(csv_file_path)\n",
    "\n",
    "# Create a shared queue for (predicted value, hour of day) tuples\n",
    "value_queue = Queue()\n",
    "\n",
    "# Enqueue (predicted value, hour of day) tuples\n",
    "for _, row in df.iterrows():\n",
    "    value_queue.put((row['Predicted'], row['Hour_of_Day'], row['Predicted_Category'], row['Destination_Location'], row['Starting_Location'], row['Weather'], row['Minute']))\n",
    "\n",
    "print(value_queue.qsize())  # Print the number of items in the queue\n",
    "\n",
    "# Here we'll assume the VehicleGenerator and simulation have been updated to handle the hour_of_day properly.\n",
    "if not value_queue.empty():\n",
    "    initial_predicted_value, initial_hour_of_day, initial_prediction_labeled, initial_destination_labeled, initial_starting_location_labeled, initial_weather_labeled, initial_minute = value_queue.get_nowait()\n",
    "else:\n",
    "    initial_predicted_value, initial_hour_of_day = 0, 0 # Default values or handle as needed\n",
    "    initial_prediction_labeled = \"\"\n",
    "    initial_weather_labeled = \"\"\n",
    "    initial_starting_location_labeled = \"\"\n",
    "    initial_destination_labeled = \"\"\n",
    "    initial_minute = 0\n",
    "\n",
    "\n",
    "sim = Simulation(initial_hour_of_day, initial_prediction_labeled, initial_destination_labeled, initial_starting_location_labeled, initial_weather_labeled, initial_minute,df)\n",
    "\n",
    "lane_space = 4\n",
    "intersection_size = 12\n",
    "length = 100\n",
    "\n",
    "sim.create_segment((50, 3), (-50, 3))\n",
    "sim.create_segment((-50, -3), (50, -3))\n",
    "\n",
    "\n",
    "# Pass the shared queue to the VehicleGenerator and simulation object\n",
    "vg = VehicleGenerator(initial_hour_of_day, initial_prediction_labeled, initial_destination_labeled, initial_starting_location_labeled, initial_weather_labeled, initial_minute,{\n",
    "    'vehicles': [\n",
    "        (1, {'path': [0], 'v': 16.6}),\n",
    "        (1, {'path': [1], 'v': 16.6})\n",
    "    ], 'value_queue': value_queue\n",
    "})\n",
    "sim.add_vehicle_generator(vg)\n",
    "\n",
    "# Pass the initial_hour_of_day to the Window\n",
    "win = Window(sim)\n",
    "sim.set_window(win)\n",
    "win.run()\n",
    "win.show()"
   ]
  }
 ],
 "metadata": {
  "kernelspec": {
   "display_name": "projet_env",
   "language": "python",
   "name": "python3"
  },
  "language_info": {
   "codemirror_mode": {
    "name": "ipython",
    "version": 3
   },
   "file_extension": ".py",
   "mimetype": "text/x-python",
   "name": "python",
   "nbconvert_exporter": "python",
   "pygments_lexer": "ipython3",
   "version": "3.11.4"
  }
 },
 "nbformat": 4,
 "nbformat_minor": 2
}
